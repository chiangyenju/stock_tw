{
 "cells": [
  {
   "cell_type": "code",
   "execution_count": 2,
   "id": "81688b18-822b-40c1-8940-f461213e517a",
   "metadata": {},
   "outputs": [
    {
     "ename": "ImportError",
     "evalue": "cannot import name 'DataLoad' from 'FinMind.data' (/opt/anaconda3/lib/python3.11/site-packages/FinMind/data/__init__.py)",
     "output_type": "error",
     "traceback": [
      "\u001b[0;31m---------------------------------------------------------------------------\u001b[0m",
      "\u001b[0;31mImportError\u001b[0m                               Traceback (most recent call last)",
      "Cell \u001b[0;32mIn[2], line 1\u001b[0m\n\u001b[0;32m----> 1\u001b[0m \u001b[38;5;28;01mfrom\u001b[39;00m \u001b[38;5;21;01mFinMind\u001b[39;00m\u001b[38;5;21;01m.\u001b[39;00m\u001b[38;5;21;01mdata\u001b[39;00m \u001b[38;5;28;01mimport\u001b[39;00m DataLoad\n\u001b[1;32m      3\u001b[0m api \u001b[38;5;241m=\u001b[39m DataLoader()\n\u001b[1;32m      4\u001b[0m api\u001b[38;5;241m.\u001b[39mlogin_by_token(api_token\u001b[38;5;241m=\u001b[39m\u001b[38;5;124m'\u001b[39m\u001b[38;5;124mtoken\u001b[39m\u001b[38;5;124m'\u001b[39m)\n",
      "\u001b[0;31mImportError\u001b[0m: cannot import name 'DataLoad' from 'FinMind.data' (/opt/anaconda3/lib/python3.11/site-packages/FinMind/data/__init__.py)"
     ]
    }
   ],
   "source": [
    "from FinMind.data import DataLoad\n",
    "\n",
    "api = DataLoader()\n",
    "api.login_by_token(api_token='token')"
   ]
  },
  {
   "cell_type": "code",
   "execution_count": null,
   "id": "7345573c-6a34-4b77-83e5-38f2bf3ad8bb",
   "metadata": {},
   "outputs": [],
   "source": []
  }
 ],
 "metadata": {
  "kernelspec": {
   "display_name": "Python 3 (ipykernel)",
   "language": "python",
   "name": "python3"
  },
  "language_info": {
   "codemirror_mode": {
    "name": "ipython",
    "version": 3
   },
   "file_extension": ".py",
   "mimetype": "text/x-python",
   "name": "python",
   "nbconvert_exporter": "python",
   "pygments_lexer": "ipython3",
   "version": "3.11.7"
  }
 },
 "nbformat": 4,
 "nbformat_minor": 5
}
