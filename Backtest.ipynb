{
 "cells": [
  {
   "cell_type": "code",
   "execution_count": 5,
   "id": "81688b18-822b-40c1-8940-f461213e517a",
   "metadata": {},
   "outputs": [],
   "source": [
    "from FinMind.data import DataLoader\n",
    "from dotenv import load_dotenv\n",
    "import os\n",
    "\n",
    "token = os.getenv(\"API_TOKEN\")\n",
    "\n",
    "api = DataLoader()\n",
    "api.login_by_token(api_token=token)"
   ]
  },
  {
   "cell_type": "code",
   "execution_count": null,
   "id": "79905e83-7b05-4cb5-b85c-18cc6e5b7012",
   "metadata": {},
   "outputs": [],
   "source": [
    "df = api.taiwan_stock_daily(\n",
    "    stock_id='2330',\n",
    "    start_date='202-04-02',\n",
    "    end_date='2020-04-12'\n",
    ")"
   ]
  }
 ],
 "metadata": {
  "kernelspec": {
   "display_name": "Python 3 (ipykernel)",
   "language": "python",
   "name": "python3"
  },
  "language_info": {
   "codemirror_mode": {
    "name": "ipython",
    "version": 3
   },
   "file_extension": ".py",
   "mimetype": "text/x-python",
   "name": "python",
   "nbconvert_exporter": "python",
   "pygments_lexer": "ipython3",
   "version": "3.11.7"
  }
 },
 "nbformat": 4,
 "nbformat_minor": 5
}
